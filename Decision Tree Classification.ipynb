{
 "cells": [
  {
   "cell_type": "code",
   "execution_count": 64,
   "metadata": {},
   "outputs": [],
   "source": [
    "import numpy as np\n",
    "import pandas as pd\n",
    "import matplotlib.pyplot as plt"
   ]
  },
  {
   "cell_type": "code",
   "execution_count": 65,
   "metadata": {},
   "outputs": [],
   "source": [
    "def min_max_scaler(data):\n",
    "    numerator = data - np.min(data, 0)\n",
    "    denominator = np.max(data, 0) - np.min(data, 0)\n",
    "    # noise term prevents the zero division\n",
    "    return numerator / (denominator + 1e-7)"
   ]
  },
  {
   "cell_type": "code",
   "execution_count": 66,
   "metadata": {},
   "outputs": [
    {
     "data": {
      "text/html": [
       "<div>\n",
       "<style scoped>\n",
       "    .dataframe tbody tr th:only-of-type {\n",
       "        vertical-align: middle;\n",
       "    }\n",
       "\n",
       "    .dataframe tbody tr th {\n",
       "        vertical-align: top;\n",
       "    }\n",
       "\n",
       "    .dataframe thead th {\n",
       "        text-align: right;\n",
       "    }\n",
       "</style>\n",
       "<table border=\"1\" class=\"dataframe\">\n",
       "  <thead>\n",
       "    <tr style=\"text-align: right;\">\n",
       "      <th></th>\n",
       "      <th>Sex</th>\n",
       "      <th>Length</th>\n",
       "      <th>Diameter</th>\n",
       "      <th>Height</th>\n",
       "      <th>Whole weight</th>\n",
       "      <th>Shucked weight</th>\n",
       "      <th>Viscera weight</th>\n",
       "      <th>Shell weight</th>\n",
       "      <th>Rings</th>\n",
       "    </tr>\n",
       "  </thead>\n",
       "  <tbody>\n",
       "    <tr>\n",
       "      <th>0</th>\n",
       "      <td>M</td>\n",
       "      <td>0.455</td>\n",
       "      <td>0.365</td>\n",
       "      <td>0.095</td>\n",
       "      <td>0.5140</td>\n",
       "      <td>0.2245</td>\n",
       "      <td>0.1010</td>\n",
       "      <td>0.150</td>\n",
       "      <td>15</td>\n",
       "    </tr>\n",
       "    <tr>\n",
       "      <th>1</th>\n",
       "      <td>M</td>\n",
       "      <td>0.350</td>\n",
       "      <td>0.265</td>\n",
       "      <td>0.090</td>\n",
       "      <td>0.2255</td>\n",
       "      <td>0.0995</td>\n",
       "      <td>0.0485</td>\n",
       "      <td>0.070</td>\n",
       "      <td>7</td>\n",
       "    </tr>\n",
       "    <tr>\n",
       "      <th>2</th>\n",
       "      <td>F</td>\n",
       "      <td>0.530</td>\n",
       "      <td>0.420</td>\n",
       "      <td>0.135</td>\n",
       "      <td>0.6770</td>\n",
       "      <td>0.2565</td>\n",
       "      <td>0.1415</td>\n",
       "      <td>0.210</td>\n",
       "      <td>9</td>\n",
       "    </tr>\n",
       "    <tr>\n",
       "      <th>3</th>\n",
       "      <td>M</td>\n",
       "      <td>0.440</td>\n",
       "      <td>0.365</td>\n",
       "      <td>0.125</td>\n",
       "      <td>0.5160</td>\n",
       "      <td>0.2155</td>\n",
       "      <td>0.1140</td>\n",
       "      <td>0.155</td>\n",
       "      <td>10</td>\n",
       "    </tr>\n",
       "    <tr>\n",
       "      <th>4</th>\n",
       "      <td>I</td>\n",
       "      <td>0.330</td>\n",
       "      <td>0.255</td>\n",
       "      <td>0.080</td>\n",
       "      <td>0.2050</td>\n",
       "      <td>0.0895</td>\n",
       "      <td>0.0395</td>\n",
       "      <td>0.055</td>\n",
       "      <td>7</td>\n",
       "    </tr>\n",
       "    <tr>\n",
       "      <th>5</th>\n",
       "      <td>I</td>\n",
       "      <td>0.425</td>\n",
       "      <td>0.300</td>\n",
       "      <td>0.095</td>\n",
       "      <td>0.3515</td>\n",
       "      <td>0.1410</td>\n",
       "      <td>0.0775</td>\n",
       "      <td>0.120</td>\n",
       "      <td>8</td>\n",
       "    </tr>\n",
       "    <tr>\n",
       "      <th>6</th>\n",
       "      <td>F</td>\n",
       "      <td>0.530</td>\n",
       "      <td>0.415</td>\n",
       "      <td>0.150</td>\n",
       "      <td>0.7775</td>\n",
       "      <td>0.2370</td>\n",
       "      <td>0.1415</td>\n",
       "      <td>0.330</td>\n",
       "      <td>20</td>\n",
       "    </tr>\n",
       "    <tr>\n",
       "      <th>7</th>\n",
       "      <td>F</td>\n",
       "      <td>0.545</td>\n",
       "      <td>0.425</td>\n",
       "      <td>0.125</td>\n",
       "      <td>0.7680</td>\n",
       "      <td>0.2940</td>\n",
       "      <td>0.1495</td>\n",
       "      <td>0.260</td>\n",
       "      <td>16</td>\n",
       "    </tr>\n",
       "    <tr>\n",
       "      <th>8</th>\n",
       "      <td>M</td>\n",
       "      <td>0.475</td>\n",
       "      <td>0.370</td>\n",
       "      <td>0.125</td>\n",
       "      <td>0.5095</td>\n",
       "      <td>0.2165</td>\n",
       "      <td>0.1125</td>\n",
       "      <td>0.165</td>\n",
       "      <td>9</td>\n",
       "    </tr>\n",
       "    <tr>\n",
       "      <th>9</th>\n",
       "      <td>F</td>\n",
       "      <td>0.550</td>\n",
       "      <td>0.440</td>\n",
       "      <td>0.150</td>\n",
       "      <td>0.8945</td>\n",
       "      <td>0.3145</td>\n",
       "      <td>0.1510</td>\n",
       "      <td>0.320</td>\n",
       "      <td>19</td>\n",
       "    </tr>\n",
       "  </tbody>\n",
       "</table>\n",
       "</div>"
      ],
      "text/plain": [
       "  Sex  Length  Diameter  Height  Whole weight  Shucked weight  Viscera weight  \\\n",
       "0   M   0.455     0.365   0.095        0.5140          0.2245          0.1010   \n",
       "1   M   0.350     0.265   0.090        0.2255          0.0995          0.0485   \n",
       "2   F   0.530     0.420   0.135        0.6770          0.2565          0.1415   \n",
       "3   M   0.440     0.365   0.125        0.5160          0.2155          0.1140   \n",
       "4   I   0.330     0.255   0.080        0.2050          0.0895          0.0395   \n",
       "5   I   0.425     0.300   0.095        0.3515          0.1410          0.0775   \n",
       "6   F   0.530     0.415   0.150        0.7775          0.2370          0.1415   \n",
       "7   F   0.545     0.425   0.125        0.7680          0.2940          0.1495   \n",
       "8   M   0.475     0.370   0.125        0.5095          0.2165          0.1125   \n",
       "9   F   0.550     0.440   0.150        0.8945          0.3145          0.1510   \n",
       "\n",
       "   Shell weight  Rings  \n",
       "0         0.150     15  \n",
       "1         0.070      7  \n",
       "2         0.210      9  \n",
       "3         0.155     10  \n",
       "4         0.055      7  \n",
       "5         0.120      8  \n",
       "6         0.330     20  \n",
       "7         0.260     16  \n",
       "8         0.165      9  \n",
       "9         0.320     19  "
      ]
     },
     "execution_count": 66,
     "metadata": {},
     "output_type": "execute_result"
    }
   ],
   "source": [
    "abalone_data = pd.read_csv('data/abalone.csv',  names = ['Sex','Length','Diameter','Height','Whole weight','Shucked weight','Viscera weight','Shell weight','Rings'])\n",
    "abalone_data.head(10)"
   ]
  },
  {
   "cell_type": "code",
   "execution_count": 67,
   "metadata": {},
   "outputs": [
    {
     "name": "stdout",
     "output_type": "stream",
     "text": [
      "     Sex  Length  Diameter  Height  Whole weight  Shucked weight  \\\n",
      "0      M   0.455     0.365   0.095        0.5140          0.2245   \n",
      "1      M   0.350     0.265   0.090        0.2255          0.0995   \n",
      "2      F   0.530     0.420   0.135        0.6770          0.2565   \n",
      "3      M   0.440     0.365   0.125        0.5160          0.2155   \n",
      "4      I   0.330     0.255   0.080        0.2050          0.0895   \n",
      "5      I   0.425     0.300   0.095        0.3515          0.1410   \n",
      "6      F   0.530     0.415   0.150        0.7775          0.2370   \n",
      "7      F   0.545     0.425   0.125        0.7680          0.2940   \n",
      "8      M   0.475     0.370   0.125        0.5095          0.2165   \n",
      "9      F   0.550     0.440   0.150        0.8945          0.3145   \n",
      "10     F   0.525     0.380   0.140        0.6065          0.1940   \n",
      "11     M   0.430     0.350   0.110        0.4060          0.1675   \n",
      "12     M   0.490     0.380   0.135        0.5415          0.2175   \n",
      "13     F   0.535     0.405   0.145        0.6845          0.2725   \n",
      "14     F   0.470     0.355   0.100        0.4755          0.1675   \n",
      "15     M   0.500     0.400   0.130        0.6645          0.2580   \n",
      "16     I   0.355     0.280   0.085        0.2905          0.0950   \n",
      "17     F   0.440     0.340   0.100        0.4510          0.1880   \n",
      "18     M   0.365     0.295   0.080        0.2555          0.0970   \n",
      "19     M   0.450     0.320   0.100        0.3810          0.1705   \n",
      "20     M   0.355     0.280   0.095        0.2455          0.0955   \n",
      "21     I   0.380     0.275   0.100        0.2255          0.0800   \n",
      "22     F   0.565     0.440   0.155        0.9395          0.4275   \n",
      "23     F   0.550     0.415   0.135        0.7635          0.3180   \n",
      "24     F   0.615     0.480   0.165        1.1615          0.5130   \n",
      "25     F   0.560     0.440   0.140        0.9285          0.3825   \n",
      "26     F   0.580     0.450   0.185        0.9955          0.3945   \n",
      "27     M   0.590     0.445   0.140        0.9310          0.3560   \n",
      "28     M   0.605     0.475   0.180        0.9365          0.3940   \n",
      "29     M   0.575     0.425   0.140        0.8635          0.3930   \n",
      "...   ..     ...       ...     ...           ...             ...   \n",
      "4147   M   0.695     0.550   0.195        1.6645          0.7270   \n",
      "4148   M   0.770     0.605   0.175        2.0505          0.8005   \n",
      "4149   I   0.280     0.215   0.070        0.1240          0.0630   \n",
      "4150   I   0.330     0.230   0.080        0.1400          0.0565   \n",
      "4151   I   0.350     0.250   0.075        0.1695          0.0835   \n",
      "4152   I   0.370     0.280   0.090        0.2180          0.0995   \n",
      "4153   I   0.430     0.315   0.115        0.3840          0.1885   \n",
      "4154   I   0.435     0.330   0.095        0.3930          0.2190   \n",
      "4155   I   0.440     0.350   0.110        0.3805          0.1575   \n",
      "4156   M   0.475     0.370   0.110        0.4895          0.2185   \n",
      "4157   M   0.475     0.360   0.140        0.5135          0.2410   \n",
      "4158   I   0.480     0.355   0.110        0.4495          0.2010   \n",
      "4159   F   0.560     0.440   0.135        0.8025          0.3500   \n",
      "4160   F   0.585     0.475   0.165        1.0530          0.4580   \n",
      "4161   F   0.585     0.455   0.170        0.9945          0.4255   \n",
      "4162   M   0.385     0.255   0.100        0.3175          0.1370   \n",
      "4163   I   0.390     0.310   0.085        0.3440          0.1810   \n",
      "4164   I   0.390     0.290   0.100        0.2845          0.1255   \n",
      "4165   I   0.405     0.300   0.085        0.3035          0.1500   \n",
      "4166   I   0.475     0.365   0.115        0.4990          0.2320   \n",
      "4167   M   0.500     0.380   0.125        0.5770          0.2690   \n",
      "4168   F   0.515     0.400   0.125        0.6150          0.2865   \n",
      "4169   M   0.520     0.385   0.165        0.7910          0.3750   \n",
      "4170   M   0.550     0.430   0.130        0.8395          0.3155   \n",
      "4171   M   0.560     0.430   0.155        0.8675          0.4000   \n",
      "4172   F   0.565     0.450   0.165        0.8870          0.3700   \n",
      "4173   M   0.590     0.440   0.135        0.9660          0.4390   \n",
      "4174   M   0.600     0.475   0.205        1.1760          0.5255   \n",
      "4175   F   0.625     0.485   0.150        1.0945          0.5310   \n",
      "4176   M   0.710     0.555   0.195        1.9485          0.9455   \n",
      "\n",
      "      Viscera weight  Shell weight     Rings  \n",
      "0             0.1010        0.1500  0.500000  \n",
      "1             0.0485        0.0700  0.214286  \n",
      "2             0.1415        0.2100  0.285714  \n",
      "3             0.1140        0.1550  0.321429  \n",
      "4             0.0395        0.0550  0.214286  \n",
      "5             0.0775        0.1200  0.250000  \n",
      "6             0.1415        0.3300  0.678571  \n",
      "7             0.1495        0.2600  0.535714  \n",
      "8             0.1125        0.1650  0.285714  \n",
      "9             0.1510        0.3200  0.642857  \n",
      "10            0.1475        0.2100  0.464286  \n",
      "11            0.0810        0.1350  0.321429  \n",
      "12            0.0950        0.1900  0.357143  \n",
      "13            0.1710        0.2050  0.321429  \n",
      "14            0.0805        0.1850  0.321429  \n",
      "15            0.1330        0.2400  0.392857  \n",
      "16            0.0395        0.1150  0.214286  \n",
      "17            0.0870        0.1300  0.321429  \n",
      "18            0.0430        0.1000  0.214286  \n",
      "19            0.0750        0.1150  0.285714  \n",
      "20            0.0620        0.0750  0.357143  \n",
      "21            0.0490        0.0850  0.321429  \n",
      "22            0.2140        0.2700  0.392857  \n",
      "23            0.2100        0.2000  0.285714  \n",
      "24            0.3010        0.3050  0.321429  \n",
      "25            0.1880        0.3000  0.357143  \n",
      "26            0.2720        0.2850  0.357143  \n",
      "27            0.2340        0.2800  0.392857  \n",
      "28            0.2190        0.2950  0.500000  \n",
      "29            0.2270        0.2000  0.357143  \n",
      "...              ...           ...       ...  \n",
      "4147          0.3600        0.4450  0.357143  \n",
      "4148          0.5260        0.3550  0.357143  \n",
      "4149          0.0215        0.0300  0.178571  \n",
      "4150          0.0365        0.0460  0.214286  \n",
      "4151          0.0355        0.0410  0.178571  \n",
      "4152          0.0545        0.0615  0.214286  \n",
      "4153          0.0715        0.1100  0.250000  \n",
      "4154          0.0750        0.0885  0.178571  \n",
      "4155          0.0895        0.1150  0.178571  \n",
      "4156          0.1070        0.1460  0.250000  \n",
      "4157          0.1045        0.1550  0.250000  \n",
      "4158          0.0890        0.1400  0.250000  \n",
      "4159          0.1615        0.2590  0.285714  \n",
      "4160          0.2170        0.3000  0.357143  \n",
      "4161          0.2630        0.2845  0.357143  \n",
      "4162          0.0680        0.0920  0.250000  \n",
      "4163          0.0695        0.0790  0.214286  \n",
      "4164          0.0635        0.0810  0.214286  \n",
      "4165          0.0505        0.0880  0.214286  \n",
      "4166          0.0885        0.1560  0.321429  \n",
      "4167          0.1265        0.1535  0.285714  \n",
      "4168          0.1230        0.1765  0.250000  \n",
      "4169          0.1800        0.1815  0.321429  \n",
      "4170          0.1955        0.2405  0.321429  \n",
      "4171          0.1720        0.2290  0.250000  \n",
      "4172          0.2390        0.2490  0.357143  \n",
      "4173          0.2145        0.2605  0.321429  \n",
      "4174          0.2875        0.3080  0.285714  \n",
      "4175          0.2610        0.2960  0.321429  \n",
      "4176          0.3765        0.4950  0.392857  \n",
      "\n",
      "[4177 rows x 9 columns]\n"
     ]
    }
   ],
   "source": [
    "# min-max 정규화\n",
    "abalone_data['Rings'] = min_max_scaler(abalone_data['Rings'])\n",
    "print(abalone_data)"
   ]
  },
  {
   "cell_type": "code",
   "execution_count": 68,
   "metadata": {},
   "outputs": [
    {
     "name": "stdout",
     "output_type": "stream",
     "text": [
      "[['M' 0.455 0.365 0.095 0.514 0.2245 0.10099999999999999 0.15\n",
      "  0.4999999982142857]\n",
      " ['M' 0.35 0.265 0.09 0.2255 0.0995 0.0485 0.07 0.21428571352040815]\n",
      " ['F' 0.53 0.42 0.135 0.677 0.2565 0.1415 0.21 0.28571428469387755]\n",
      " ['M' 0.44 0.365 0.125 0.516 0.2155 0.114 0.155 0.3214285702806122]\n",
      " ['I' 0.33 0.255 0.08 0.205 0.0895 0.0395 0.055 0.21428571352040815]]\n",
      "(4177, 9)\n"
     ]
    }
   ],
   "source": [
    "data = np.array(abalone_data)\n",
    "print(data[0:5,:])\n",
    "print(data.shape)"
   ]
  },
  {
   "cell_type": "code",
   "execution_count": 69,
   "metadata": {},
   "outputs": [
    {
     "name": "stdout",
     "output_type": "stream",
     "text": [
      "[[0.455 0.365 0.095 0.514 0.2245 0.10099999999999999 0.15\n",
      "  0.4999999982142857]\n",
      " [0.35 0.265 0.09 0.2255 0.0995 0.0485 0.07 0.21428571352040815]\n",
      " [0.53 0.42 0.135 0.677 0.2565 0.1415 0.21 0.28571428469387755]\n",
      " [0.44 0.365 0.125 0.516 0.2155 0.114 0.155 0.3214285702806122]\n",
      " [0.33 0.255 0.08 0.205 0.0895 0.0395 0.055 0.21428571352040815]]\n",
      "['M' 'M' 'F' 'M' 'I']\n"
     ]
    }
   ],
   "source": [
    "nvar = data.shape[1]\n",
    "datax = data[:,1:nvar]\n",
    "datay = data[:,0]\n",
    "print(datax[0:5,:])\n",
    "print(datay[0:5])"
   ]
  },
  {
   "cell_type": "code",
   "execution_count": 70,
   "metadata": {},
   "outputs": [
    {
     "name": "stdout",
     "output_type": "stream",
     "text": [
      "(2923, 8)\n",
      "(1254, 8)\n",
      "(2923,)\n",
      "(1254,)\n"
     ]
    }
   ],
   "source": [
    "from sklearn.model_selection import train_test_split\n",
    "trnx, tstx, trny, tsty = train_test_split(datax, datay, test_size=0.3, random_state=510)\n",
    "print(trnx.shape)\n",
    "print(tstx.shape)\n",
    "print(trny.shape)\n",
    "print(tsty.shape)"
   ]
  },
  {
   "cell_type": "code",
   "execution_count": 71,
   "metadata": {},
   "outputs": [
    {
     "data": {
      "text/plain": [
       "DecisionTreeClassifier(class_weight=None, criterion='gini', max_depth=4,\n",
       "            max_features=None, max_leaf_nodes=None,\n",
       "            min_impurity_decrease=0.0, min_impurity_split=None,\n",
       "            min_samples_leaf=1, min_samples_split=3,\n",
       "            min_weight_fraction_leaf=0.0, presort=False, random_state=None,\n",
       "            splitter='best')"
      ]
     },
     "execution_count": 71,
     "metadata": {},
     "output_type": "execute_result"
    }
   ],
   "source": [
    "from sklearn import tree\n",
    "tree_model = tree.DecisionTreeClassifier(max_depth=4, min_samples_split=3)\n",
    "tree_model.fit(X=trnx, y=trny)"
   ]
  },
  {
   "cell_type": "code",
   "execution_count": 72,
   "metadata": {},
   "outputs": [],
   "source": [
    "tree_pred = tree_model.predict(X=tstx)"
   ]
  },
  {
   "cell_type": "code",
   "execution_count": 73,
   "metadata": {},
   "outputs": [
    {
     "data": {
      "text/plain": [
       "array([0.04676463, 0.        , 0.01213066, 0.68118879, 0.03633871,\n",
       "       0.03525328, 0.01010567, 0.17821826])"
      ]
     },
     "execution_count": 73,
     "metadata": {},
     "output_type": "execute_result"
    }
   ],
   "source": [
    "tree_model.feature_importances_"
   ]
  },
  {
   "cell_type": "code",
   "execution_count": 74,
   "metadata": {},
   "outputs": [],
   "source": [
    "from sklearn.tree import export_graphviz\n",
    "export_graphviz(tree_model, out_file='TreeClf.dot')"
   ]
  },
  {
   "cell_type": "code",
   "execution_count": 75,
   "metadata": {},
   "outputs": [
    {
     "data": {
      "text/plain": [
       "array([[271,  50,  76],\n",
       "       [ 68, 281,  38],\n",
       "       [280,  71, 119]])"
      ]
     },
     "execution_count": 75,
     "metadata": {},
     "output_type": "execute_result"
    }
   ],
   "source": [
    "from sklearn.metrics import confusion_matrix\n",
    "confusion_matrix(tsty, tree_model.predict(tstx))"
   ]
  },
  {
   "cell_type": "code",
   "execution_count": 76,
   "metadata": {},
   "outputs": [
    {
     "data": {
      "text/plain": [
       "0.5350877192982456"
      ]
     },
     "execution_count": 76,
     "metadata": {},
     "output_type": "execute_result"
    }
   ],
   "source": [
    "from sklearn.metrics import accuracy_score\n",
    "accuracy_score(tsty, tree_pred)"
   ]
  }
 ],
 "metadata": {
  "kernelspec": {
   "display_name": "Python 3",
   "language": "python",
   "name": "python3"
  },
  "language_info": {
   "codemirror_mode": {
    "name": "ipython",
    "version": 3
   },
   "file_extension": ".py",
   "mimetype": "text/x-python",
   "name": "python",
   "nbconvert_exporter": "python",
   "pygments_lexer": "ipython3",
   "version": "3.6.8"
  }
 },
 "nbformat": 4,
 "nbformat_minor": 2
}
